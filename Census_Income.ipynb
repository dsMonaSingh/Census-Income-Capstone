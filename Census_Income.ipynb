{
 "cells": [
  {
   "cell_type": "code",
   "execution_count": 1,
   "id": "251a25ab",
   "metadata": {
    "id": "251a25ab"
   },
   "outputs": [],
   "source": [
    "import pandas as pd\n",
    "import matplotlib.pyplot as plt\n",
    "%matplotlib inline\n",
    "import numpy as np"
   ]
  },
  {
   "cell_type": "code",
   "execution_count": 2,
   "id": "b0bd5856",
   "metadata": {
    "id": "b0bd5856"
   },
   "outputs": [],
   "source": [
    "data=pd.read_csv('census-income_(1).csv',skipinitialspace=True)"
   ]
  },
  {
   "cell_type": "code",
   "execution_count": 3,
   "id": "aab92b0c",
   "metadata": {
    "id": "aab92b0c"
   },
   "outputs": [],
   "source": [
    "data= data.replace('?',np.nan)"
   ]
  },
  {
   "cell_type": "code",
   "execution_count": 4,
   "id": "18641dfc",
   "metadata": {
    "id": "18641dfc",
    "outputId": "e0ddd1a3-2320-4c84-8baa-2729d93609e9"
   },
   "outputs": [
    {
     "data": {
      "text/plain": [
       "age                  0\n",
       "workclass         1836\n",
       "fnlwgt               0\n",
       "education            0\n",
       "education-num        0\n",
       "marital-status       0\n",
       "occupation        1843\n",
       "relationship         0\n",
       "race                 0\n",
       "sex                  0\n",
       "capital-gain         0\n",
       "capital-loss         0\n",
       "hours-per-week       0\n",
       "native-country     583\n",
       "Unnamed: 14          0\n",
       "dtype: int64"
      ]
     },
     "execution_count": 4,
     "metadata": {},
     "output_type": "execute_result"
    }
   ],
   "source": [
    "data.isnull().sum()"
   ]
  },
  {
   "cell_type": "code",
   "execution_count": 5,
   "id": "8d37ae28",
   "metadata": {
    "id": "8d37ae28"
   },
   "outputs": [],
   "source": [
    "data=data.rename(columns={'Unnamed: 14': 'AnnualIncome'})"
   ]
  },
  {
   "cell_type": "code",
   "execution_count": 6,
   "id": "3f4f0425",
   "metadata": {
    "id": "3f4f0425",
    "outputId": "d4cda140-5731-4836-afdd-16206e735a12"
   },
   "outputs": [
    {
     "data": {
      "text/plain": [
       "(2561, 15)"
      ]
     },
     "execution_count": 6,
     "metadata": {},
     "output_type": "execute_result"
    }
   ],
   "source": [
    "data[(data['workclass']=='Private') & (data['native-country']!='United-States')].shape"
   ]
  },
  {
   "cell_type": "code",
   "execution_count": 7,
   "id": "dc6f6098",
   "metadata": {
    "id": "dc6f6098"
   },
   "outputs": [],
   "source": [
    "census_ed=data['education']"
   ]
  },
  {
   "cell_type": "code",
   "execution_count": 8,
   "id": "d29a36ca",
   "metadata": {
    "id": "d29a36ca",
    "outputId": "8408cff1-5c55-46b1-895f-946c178db815"
   },
   "outputs": [
    {
     "data": {
      "text/plain": [
       "0         Bachelors\n",
       "1         Bachelors\n",
       "2           HS-grad\n",
       "3              11th\n",
       "4         Bachelors\n",
       "            ...    \n",
       "32556    Assoc-acdm\n",
       "32557       HS-grad\n",
       "32558       HS-grad\n",
       "32559       HS-grad\n",
       "32560       HS-grad\n",
       "Name: education, Length: 32561, dtype: object"
      ]
     },
     "execution_count": 8,
     "metadata": {},
     "output_type": "execute_result"
    }
   ],
   "source": [
    "census_ed"
   ]
  },
  {
   "cell_type": "code",
   "execution_count": 9,
   "id": "d61ccd6c",
   "metadata": {
    "id": "d61ccd6c"
   },
   "outputs": [],
   "source": [
    "census_seq=data.iloc[:,:8]"
   ]
  },
  {
   "cell_type": "code",
   "execution_count": 10,
   "id": "4c92ef90",
   "metadata": {
    "id": "4c92ef90",
    "outputId": "acc33f73-3e9e-4d97-b07b-f97a58ae51ca"
   },
   "outputs": [
    {
     "data": {
      "text/html": [
       "<div>\n",
       "<style scoped>\n",
       "    .dataframe tbody tr th:only-of-type {\n",
       "        vertical-align: middle;\n",
       "    }\n",
       "\n",
       "    .dataframe tbody tr th {\n",
       "        vertical-align: top;\n",
       "    }\n",
       "\n",
       "    .dataframe thead th {\n",
       "        text-align: right;\n",
       "    }\n",
       "</style>\n",
       "<table border=\"1\" class=\"dataframe\">\n",
       "  <thead>\n",
       "    <tr style=\"text-align: right;\">\n",
       "      <th></th>\n",
       "      <th>age</th>\n",
       "      <th>workclass</th>\n",
       "      <th>fnlwgt</th>\n",
       "      <th>education</th>\n",
       "      <th>education-num</th>\n",
       "      <th>marital-status</th>\n",
       "      <th>occupation</th>\n",
       "      <th>relationship</th>\n",
       "    </tr>\n",
       "  </thead>\n",
       "  <tbody>\n",
       "    <tr>\n",
       "      <th>0</th>\n",
       "      <td>39</td>\n",
       "      <td>State-gov</td>\n",
       "      <td>77516</td>\n",
       "      <td>Bachelors</td>\n",
       "      <td>13</td>\n",
       "      <td>Never-married</td>\n",
       "      <td>Adm-clerical</td>\n",
       "      <td>Not-in-family</td>\n",
       "    </tr>\n",
       "    <tr>\n",
       "      <th>1</th>\n",
       "      <td>50</td>\n",
       "      <td>Self-emp-not-inc</td>\n",
       "      <td>83311</td>\n",
       "      <td>Bachelors</td>\n",
       "      <td>13</td>\n",
       "      <td>Married-civ-spouse</td>\n",
       "      <td>Exec-managerial</td>\n",
       "      <td>Husband</td>\n",
       "    </tr>\n",
       "    <tr>\n",
       "      <th>2</th>\n",
       "      <td>38</td>\n",
       "      <td>Private</td>\n",
       "      <td>215646</td>\n",
       "      <td>HS-grad</td>\n",
       "      <td>9</td>\n",
       "      <td>Divorced</td>\n",
       "      <td>Handlers-cleaners</td>\n",
       "      <td>Not-in-family</td>\n",
       "    </tr>\n",
       "    <tr>\n",
       "      <th>3</th>\n",
       "      <td>53</td>\n",
       "      <td>Private</td>\n",
       "      <td>234721</td>\n",
       "      <td>11th</td>\n",
       "      <td>7</td>\n",
       "      <td>Married-civ-spouse</td>\n",
       "      <td>Handlers-cleaners</td>\n",
       "      <td>Husband</td>\n",
       "    </tr>\n",
       "    <tr>\n",
       "      <th>4</th>\n",
       "      <td>28</td>\n",
       "      <td>Private</td>\n",
       "      <td>338409</td>\n",
       "      <td>Bachelors</td>\n",
       "      <td>13</td>\n",
       "      <td>Married-civ-spouse</td>\n",
       "      <td>Prof-specialty</td>\n",
       "      <td>Wife</td>\n",
       "    </tr>\n",
       "    <tr>\n",
       "      <th>...</th>\n",
       "      <td>...</td>\n",
       "      <td>...</td>\n",
       "      <td>...</td>\n",
       "      <td>...</td>\n",
       "      <td>...</td>\n",
       "      <td>...</td>\n",
       "      <td>...</td>\n",
       "      <td>...</td>\n",
       "    </tr>\n",
       "    <tr>\n",
       "      <th>32556</th>\n",
       "      <td>27</td>\n",
       "      <td>Private</td>\n",
       "      <td>257302</td>\n",
       "      <td>Assoc-acdm</td>\n",
       "      <td>12</td>\n",
       "      <td>Married-civ-spouse</td>\n",
       "      <td>Tech-support</td>\n",
       "      <td>Wife</td>\n",
       "    </tr>\n",
       "    <tr>\n",
       "      <th>32557</th>\n",
       "      <td>40</td>\n",
       "      <td>Private</td>\n",
       "      <td>154374</td>\n",
       "      <td>HS-grad</td>\n",
       "      <td>9</td>\n",
       "      <td>Married-civ-spouse</td>\n",
       "      <td>Machine-op-inspct</td>\n",
       "      <td>Husband</td>\n",
       "    </tr>\n",
       "    <tr>\n",
       "      <th>32558</th>\n",
       "      <td>58</td>\n",
       "      <td>Private</td>\n",
       "      <td>151910</td>\n",
       "      <td>HS-grad</td>\n",
       "      <td>9</td>\n",
       "      <td>Widowed</td>\n",
       "      <td>Adm-clerical</td>\n",
       "      <td>Unmarried</td>\n",
       "    </tr>\n",
       "    <tr>\n",
       "      <th>32559</th>\n",
       "      <td>22</td>\n",
       "      <td>Private</td>\n",
       "      <td>201490</td>\n",
       "      <td>HS-grad</td>\n",
       "      <td>9</td>\n",
       "      <td>Never-married</td>\n",
       "      <td>Adm-clerical</td>\n",
       "      <td>Own-child</td>\n",
       "    </tr>\n",
       "    <tr>\n",
       "      <th>32560</th>\n",
       "      <td>52</td>\n",
       "      <td>Self-emp-inc</td>\n",
       "      <td>287927</td>\n",
       "      <td>HS-grad</td>\n",
       "      <td>9</td>\n",
       "      <td>Married-civ-spouse</td>\n",
       "      <td>Exec-managerial</td>\n",
       "      <td>Wife</td>\n",
       "    </tr>\n",
       "  </tbody>\n",
       "</table>\n",
       "<p>32561 rows × 8 columns</p>\n",
       "</div>"
      ],
      "text/plain": [
       "       age         workclass  fnlwgt   education  education-num  \\\n",
       "0       39         State-gov   77516   Bachelors             13   \n",
       "1       50  Self-emp-not-inc   83311   Bachelors             13   \n",
       "2       38           Private  215646     HS-grad              9   \n",
       "3       53           Private  234721        11th              7   \n",
       "4       28           Private  338409   Bachelors             13   \n",
       "...    ...               ...     ...         ...            ...   \n",
       "32556   27           Private  257302  Assoc-acdm             12   \n",
       "32557   40           Private  154374     HS-grad              9   \n",
       "32558   58           Private  151910     HS-grad              9   \n",
       "32559   22           Private  201490     HS-grad              9   \n",
       "32560   52      Self-emp-inc  287927     HS-grad              9   \n",
       "\n",
       "           marital-status         occupation   relationship  \n",
       "0           Never-married       Adm-clerical  Not-in-family  \n",
       "1      Married-civ-spouse    Exec-managerial        Husband  \n",
       "2                Divorced  Handlers-cleaners  Not-in-family  \n",
       "3      Married-civ-spouse  Handlers-cleaners        Husband  \n",
       "4      Married-civ-spouse     Prof-specialty           Wife  \n",
       "...                   ...                ...            ...  \n",
       "32556  Married-civ-spouse       Tech-support           Wife  \n",
       "32557  Married-civ-spouse  Machine-op-inspct        Husband  \n",
       "32558             Widowed       Adm-clerical      Unmarried  \n",
       "32559       Never-married       Adm-clerical      Own-child  \n",
       "32560  Married-civ-spouse    Exec-managerial           Wife  \n",
       "\n",
       "[32561 rows x 8 columns]"
      ]
     },
     "execution_count": 10,
     "metadata": {},
     "output_type": "execute_result"
    }
   ],
   "source": [
    "census_seq"
   ]
  },
  {
   "cell_type": "code",
   "execution_count": 11,
   "id": "780746ba",
   "metadata": {
    "id": "780746ba",
    "outputId": "3d5d0b97-ae32-4996-b56b-dbaee74e3dae"
   },
   "outputs": [
    {
     "data": {
      "text/html": [
       "<div>\n",
       "<style scoped>\n",
       "    .dataframe tbody tr th:only-of-type {\n",
       "        vertical-align: middle;\n",
       "    }\n",
       "\n",
       "    .dataframe tbody tr th {\n",
       "        vertical-align: top;\n",
       "    }\n",
       "\n",
       "    .dataframe thead th {\n",
       "        text-align: right;\n",
       "    }\n",
       "</style>\n",
       "<table border=\"1\" class=\"dataframe\">\n",
       "  <thead>\n",
       "    <tr style=\"text-align: right;\">\n",
       "      <th></th>\n",
       "      <th>marital-status</th>\n",
       "      <th>race</th>\n",
       "      <th>capital-loss</th>\n",
       "    </tr>\n",
       "  </thead>\n",
       "  <tbody>\n",
       "    <tr>\n",
       "      <th>0</th>\n",
       "      <td>Never-married</td>\n",
       "      <td>White</td>\n",
       "      <td>0</td>\n",
       "    </tr>\n",
       "    <tr>\n",
       "      <th>1</th>\n",
       "      <td>Married-civ-spouse</td>\n",
       "      <td>White</td>\n",
       "      <td>0</td>\n",
       "    </tr>\n",
       "    <tr>\n",
       "      <th>2</th>\n",
       "      <td>Divorced</td>\n",
       "      <td>White</td>\n",
       "      <td>0</td>\n",
       "    </tr>\n",
       "    <tr>\n",
       "      <th>3</th>\n",
       "      <td>Married-civ-spouse</td>\n",
       "      <td>Black</td>\n",
       "      <td>0</td>\n",
       "    </tr>\n",
       "    <tr>\n",
       "      <th>4</th>\n",
       "      <td>Married-civ-spouse</td>\n",
       "      <td>Black</td>\n",
       "      <td>0</td>\n",
       "    </tr>\n",
       "    <tr>\n",
       "      <th>...</th>\n",
       "      <td>...</td>\n",
       "      <td>...</td>\n",
       "      <td>...</td>\n",
       "    </tr>\n",
       "    <tr>\n",
       "      <th>32556</th>\n",
       "      <td>Married-civ-spouse</td>\n",
       "      <td>White</td>\n",
       "      <td>0</td>\n",
       "    </tr>\n",
       "    <tr>\n",
       "      <th>32557</th>\n",
       "      <td>Married-civ-spouse</td>\n",
       "      <td>White</td>\n",
       "      <td>0</td>\n",
       "    </tr>\n",
       "    <tr>\n",
       "      <th>32558</th>\n",
       "      <td>Widowed</td>\n",
       "      <td>White</td>\n",
       "      <td>0</td>\n",
       "    </tr>\n",
       "    <tr>\n",
       "      <th>32559</th>\n",
       "      <td>Never-married</td>\n",
       "      <td>White</td>\n",
       "      <td>0</td>\n",
       "    </tr>\n",
       "    <tr>\n",
       "      <th>32560</th>\n",
       "      <td>Married-civ-spouse</td>\n",
       "      <td>White</td>\n",
       "      <td>0</td>\n",
       "    </tr>\n",
       "  </tbody>\n",
       "</table>\n",
       "<p>32561 rows × 3 columns</p>\n",
       "</div>"
      ],
      "text/plain": [
       "           marital-status   race  capital-loss\n",
       "0           Never-married  White             0\n",
       "1      Married-civ-spouse  White             0\n",
       "2                Divorced  White             0\n",
       "3      Married-civ-spouse  Black             0\n",
       "4      Married-civ-spouse  Black             0\n",
       "...                   ...    ...           ...\n",
       "32556  Married-civ-spouse  White             0\n",
       "32557  Married-civ-spouse  White             0\n",
       "32558             Widowed  White             0\n",
       "32559       Never-married  White             0\n",
       "32560  Married-civ-spouse  White             0\n",
       "\n",
       "[32561 rows x 3 columns]"
      ]
     },
     "execution_count": 11,
     "metadata": {},
     "output_type": "execute_result"
    }
   ],
   "source": [
    "census_col=data.iloc[:,[5,8,11]]\n",
    "census_col"
   ]
  },
  {
   "cell_type": "code",
   "execution_count": 12,
   "id": "f03a3b0c",
   "metadata": {
    "id": "f03a3b0c",
    "outputId": "bc947e19-f640-482c-d4d8-294caf314d85"
   },
   "outputs": [
    {
     "data": {
      "text/html": [
       "<div>\n",
       "<style scoped>\n",
       "    .dataframe tbody tr th:only-of-type {\n",
       "        vertical-align: middle;\n",
       "    }\n",
       "\n",
       "    .dataframe tbody tr th {\n",
       "        vertical-align: top;\n",
       "    }\n",
       "\n",
       "    .dataframe thead th {\n",
       "        text-align: right;\n",
       "    }\n",
       "</style>\n",
       "<table border=\"1\" class=\"dataframe\">\n",
       "  <thead>\n",
       "    <tr style=\"text-align: right;\">\n",
       "      <th></th>\n",
       "      <th>age</th>\n",
       "      <th>workclass</th>\n",
       "      <th>fnlwgt</th>\n",
       "      <th>education</th>\n",
       "      <th>education-num</th>\n",
       "      <th>marital-status</th>\n",
       "      <th>occupation</th>\n",
       "      <th>relationship</th>\n",
       "      <th>race</th>\n",
       "      <th>sex</th>\n",
       "      <th>capital-gain</th>\n",
       "      <th>capital-loss</th>\n",
       "      <th>hours-per-week</th>\n",
       "      <th>native-country</th>\n",
       "      <th>AnnualIncome</th>\n",
       "    </tr>\n",
       "  </thead>\n",
       "  <tbody>\n",
       "    <tr>\n",
       "      <th>0</th>\n",
       "      <td>39</td>\n",
       "      <td>State-gov</td>\n",
       "      <td>77516</td>\n",
       "      <td>Bachelors</td>\n",
       "      <td>13</td>\n",
       "      <td>Never-married</td>\n",
       "      <td>Adm-clerical</td>\n",
       "      <td>Not-in-family</td>\n",
       "      <td>White</td>\n",
       "      <td>Male</td>\n",
       "      <td>2174</td>\n",
       "      <td>0</td>\n",
       "      <td>40</td>\n",
       "      <td>United-States</td>\n",
       "      <td>&lt;=50K</td>\n",
       "    </tr>\n",
       "    <tr>\n",
       "      <th>1</th>\n",
       "      <td>50</td>\n",
       "      <td>Self-emp-not-inc</td>\n",
       "      <td>83311</td>\n",
       "      <td>Bachelors</td>\n",
       "      <td>13</td>\n",
       "      <td>Married-civ-spouse</td>\n",
       "      <td>Exec-managerial</td>\n",
       "      <td>Husband</td>\n",
       "      <td>White</td>\n",
       "      <td>Male</td>\n",
       "      <td>0</td>\n",
       "      <td>0</td>\n",
       "      <td>13</td>\n",
       "      <td>United-States</td>\n",
       "      <td>&lt;=50K</td>\n",
       "    </tr>\n",
       "  </tbody>\n",
       "</table>\n",
       "</div>"
      ],
      "text/plain": [
       "   age         workclass  fnlwgt  education  education-num  \\\n",
       "0   39         State-gov   77516  Bachelors             13   \n",
       "1   50  Self-emp-not-inc   83311  Bachelors             13   \n",
       "\n",
       "       marital-status       occupation   relationship   race   sex  \\\n",
       "0       Never-married     Adm-clerical  Not-in-family  White  Male   \n",
       "1  Married-civ-spouse  Exec-managerial        Husband  White  Male   \n",
       "\n",
       "   capital-gain  capital-loss  hours-per-week native-country AnnualIncome  \n",
       "0          2174             0              40  United-States        <=50K  \n",
       "1             0             0              13  United-States        <=50K  "
      ]
     },
     "execution_count": 12,
     "metadata": {},
     "output_type": "execute_result"
    }
   ],
   "source": [
    "data.head(2)"
   ]
  },
  {
   "cell_type": "code",
   "execution_count": 13,
   "id": "05b79b81",
   "metadata": {
    "id": "05b79b81"
   },
   "outputs": [],
   "source": [
    "male_gov=data[(data['sex']=='Male') & (data['workclass']=='State-gov')]"
   ]
  },
  {
   "cell_type": "code",
   "execution_count": 14,
   "id": "9d7d3fa2",
   "metadata": {
    "id": "9d7d3fa2"
   },
   "outputs": [],
   "source": [
    "census_us=data[(data['age']==39)& ((data['education']=='Bachelors') |(data['native-country']=='United-States'))]"
   ]
  },
  {
   "cell_type": "code",
   "execution_count": 15,
   "id": "f1ff5c6c",
   "metadata": {
    "id": "f1ff5c6c",
    "outputId": "4cd189d3-2756-4542-d279-84fb6683edf0"
   },
   "outputs": [
    {
     "data": {
      "text/html": [
       "<div>\n",
       "<style scoped>\n",
       "    .dataframe tbody tr th:only-of-type {\n",
       "        vertical-align: middle;\n",
       "    }\n",
       "\n",
       "    .dataframe tbody tr th {\n",
       "        vertical-align: top;\n",
       "    }\n",
       "\n",
       "    .dataframe thead th {\n",
       "        text-align: right;\n",
       "    }\n",
       "</style>\n",
       "<table border=\"1\" class=\"dataframe\">\n",
       "  <thead>\n",
       "    <tr style=\"text-align: right;\">\n",
       "      <th></th>\n",
       "      <th>age</th>\n",
       "      <th>workclass</th>\n",
       "      <th>fnlwgt</th>\n",
       "      <th>education</th>\n",
       "      <th>education-num</th>\n",
       "      <th>marital-status</th>\n",
       "      <th>occupation</th>\n",
       "      <th>relationship</th>\n",
       "      <th>race</th>\n",
       "      <th>sex</th>\n",
       "      <th>capital-gain</th>\n",
       "      <th>capital-loss</th>\n",
       "      <th>hours-per-week</th>\n",
       "      <th>native-country</th>\n",
       "      <th>AnnualIncome</th>\n",
       "    </tr>\n",
       "  </thead>\n",
       "  <tbody>\n",
       "    <tr>\n",
       "      <th>28404</th>\n",
       "      <td>41</td>\n",
       "      <td>Private</td>\n",
       "      <td>157025</td>\n",
       "      <td>HS-grad</td>\n",
       "      <td>9</td>\n",
       "      <td>Never-married</td>\n",
       "      <td>Machine-op-inspct</td>\n",
       "      <td>Unmarried</td>\n",
       "      <td>Black</td>\n",
       "      <td>Male</td>\n",
       "      <td>0</td>\n",
       "      <td>0</td>\n",
       "      <td>40</td>\n",
       "      <td>United-States</td>\n",
       "      <td>&lt;=50K</td>\n",
       "    </tr>\n",
       "    <tr>\n",
       "      <th>22674</th>\n",
       "      <td>19</td>\n",
       "      <td>Private</td>\n",
       "      <td>67759</td>\n",
       "      <td>HS-grad</td>\n",
       "      <td>9</td>\n",
       "      <td>Never-married</td>\n",
       "      <td>Machine-op-inspct</td>\n",
       "      <td>Own-child</td>\n",
       "      <td>White</td>\n",
       "      <td>Male</td>\n",
       "      <td>0</td>\n",
       "      <td>0</td>\n",
       "      <td>43</td>\n",
       "      <td>United-States</td>\n",
       "      <td>&lt;=50K</td>\n",
       "    </tr>\n",
       "    <tr>\n",
       "      <th>13386</th>\n",
       "      <td>32</td>\n",
       "      <td>Self-emp-not-inc</td>\n",
       "      <td>203408</td>\n",
       "      <td>HS-grad</td>\n",
       "      <td>9</td>\n",
       "      <td>Married-civ-spouse</td>\n",
       "      <td>Craft-repair</td>\n",
       "      <td>Husband</td>\n",
       "      <td>White</td>\n",
       "      <td>Male</td>\n",
       "      <td>0</td>\n",
       "      <td>0</td>\n",
       "      <td>44</td>\n",
       "      <td>United-States</td>\n",
       "      <td>&lt;=50K</td>\n",
       "    </tr>\n",
       "    <tr>\n",
       "      <th>22936</th>\n",
       "      <td>46</td>\n",
       "      <td>Private</td>\n",
       "      <td>123598</td>\n",
       "      <td>Bachelors</td>\n",
       "      <td>13</td>\n",
       "      <td>Married-civ-spouse</td>\n",
       "      <td>Sales</td>\n",
       "      <td>Husband</td>\n",
       "      <td>White</td>\n",
       "      <td>Male</td>\n",
       "      <td>0</td>\n",
       "      <td>0</td>\n",
       "      <td>40</td>\n",
       "      <td>United-States</td>\n",
       "      <td>&lt;=50K</td>\n",
       "    </tr>\n",
       "    <tr>\n",
       "      <th>26859</th>\n",
       "      <td>26</td>\n",
       "      <td>Private</td>\n",
       "      <td>160300</td>\n",
       "      <td>HS-grad</td>\n",
       "      <td>9</td>\n",
       "      <td>Never-married</td>\n",
       "      <td>Machine-op-inspct</td>\n",
       "      <td>Own-child</td>\n",
       "      <td>White</td>\n",
       "      <td>Male</td>\n",
       "      <td>0</td>\n",
       "      <td>0</td>\n",
       "      <td>40</td>\n",
       "      <td>United-States</td>\n",
       "      <td>&lt;=50K</td>\n",
       "    </tr>\n",
       "    <tr>\n",
       "      <th>...</th>\n",
       "      <td>...</td>\n",
       "      <td>...</td>\n",
       "      <td>...</td>\n",
       "      <td>...</td>\n",
       "      <td>...</td>\n",
       "      <td>...</td>\n",
       "      <td>...</td>\n",
       "      <td>...</td>\n",
       "      <td>...</td>\n",
       "      <td>...</td>\n",
       "      <td>...</td>\n",
       "      <td>...</td>\n",
       "      <td>...</td>\n",
       "      <td>...</td>\n",
       "      <td>...</td>\n",
       "    </tr>\n",
       "    <tr>\n",
       "      <th>13419</th>\n",
       "      <td>61</td>\n",
       "      <td>Private</td>\n",
       "      <td>51385</td>\n",
       "      <td>Bachelors</td>\n",
       "      <td>13</td>\n",
       "      <td>Married-civ-spouse</td>\n",
       "      <td>Sales</td>\n",
       "      <td>Husband</td>\n",
       "      <td>White</td>\n",
       "      <td>Male</td>\n",
       "      <td>0</td>\n",
       "      <td>0</td>\n",
       "      <td>50</td>\n",
       "      <td>United-States</td>\n",
       "      <td>&gt;50K</td>\n",
       "    </tr>\n",
       "    <tr>\n",
       "      <th>26348</th>\n",
       "      <td>59</td>\n",
       "      <td>NaN</td>\n",
       "      <td>375049</td>\n",
       "      <td>HS-grad</td>\n",
       "      <td>9</td>\n",
       "      <td>Married-civ-spouse</td>\n",
       "      <td>NaN</td>\n",
       "      <td>Husband</td>\n",
       "      <td>White</td>\n",
       "      <td>Male</td>\n",
       "      <td>0</td>\n",
       "      <td>0</td>\n",
       "      <td>41</td>\n",
       "      <td>United-States</td>\n",
       "      <td>&gt;50K</td>\n",
       "    </tr>\n",
       "    <tr>\n",
       "      <th>23605</th>\n",
       "      <td>20</td>\n",
       "      <td>Private</td>\n",
       "      <td>127185</td>\n",
       "      <td>Some-college</td>\n",
       "      <td>10</td>\n",
       "      <td>Never-married</td>\n",
       "      <td>Prof-specialty</td>\n",
       "      <td>Own-child</td>\n",
       "      <td>White</td>\n",
       "      <td>Female</td>\n",
       "      <td>0</td>\n",
       "      <td>0</td>\n",
       "      <td>15</td>\n",
       "      <td>United-States</td>\n",
       "      <td>&lt;=50K</td>\n",
       "    </tr>\n",
       "    <tr>\n",
       "      <th>18762</th>\n",
       "      <td>31</td>\n",
       "      <td>Private</td>\n",
       "      <td>156493</td>\n",
       "      <td>HS-grad</td>\n",
       "      <td>9</td>\n",
       "      <td>Never-married</td>\n",
       "      <td>Prof-specialty</td>\n",
       "      <td>Own-child</td>\n",
       "      <td>White</td>\n",
       "      <td>Male</td>\n",
       "      <td>0</td>\n",
       "      <td>0</td>\n",
       "      <td>40</td>\n",
       "      <td>United-States</td>\n",
       "      <td>&lt;=50K</td>\n",
       "    </tr>\n",
       "    <tr>\n",
       "      <th>25354</th>\n",
       "      <td>65</td>\n",
       "      <td>Private</td>\n",
       "      <td>89681</td>\n",
       "      <td>Masters</td>\n",
       "      <td>14</td>\n",
       "      <td>Never-married</td>\n",
       "      <td>Prof-specialty</td>\n",
       "      <td>Not-in-family</td>\n",
       "      <td>White</td>\n",
       "      <td>Male</td>\n",
       "      <td>0</td>\n",
       "      <td>0</td>\n",
       "      <td>99</td>\n",
       "      <td>United-States</td>\n",
       "      <td>&lt;=50K</td>\n",
       "    </tr>\n",
       "  </tbody>\n",
       "</table>\n",
       "<p>200 rows × 15 columns</p>\n",
       "</div>"
      ],
      "text/plain": [
       "       age         workclass  fnlwgt     education  education-num  \\\n",
       "28404   41           Private  157025       HS-grad              9   \n",
       "22674   19           Private   67759       HS-grad              9   \n",
       "13386   32  Self-emp-not-inc  203408       HS-grad              9   \n",
       "22936   46           Private  123598     Bachelors             13   \n",
       "26859   26           Private  160300       HS-grad              9   \n",
       "...    ...               ...     ...           ...            ...   \n",
       "13419   61           Private   51385     Bachelors             13   \n",
       "26348   59               NaN  375049       HS-grad              9   \n",
       "23605   20           Private  127185  Some-college             10   \n",
       "18762   31           Private  156493       HS-grad              9   \n",
       "25354   65           Private   89681       Masters             14   \n",
       "\n",
       "           marital-status         occupation   relationship   race     sex  \\\n",
       "28404       Never-married  Machine-op-inspct      Unmarried  Black    Male   \n",
       "22674       Never-married  Machine-op-inspct      Own-child  White    Male   \n",
       "13386  Married-civ-spouse       Craft-repair        Husband  White    Male   \n",
       "22936  Married-civ-spouse              Sales        Husband  White    Male   \n",
       "26859       Never-married  Machine-op-inspct      Own-child  White    Male   \n",
       "...                   ...                ...            ...    ...     ...   \n",
       "13419  Married-civ-spouse              Sales        Husband  White    Male   \n",
       "26348  Married-civ-spouse                NaN        Husband  White    Male   \n",
       "23605       Never-married     Prof-specialty      Own-child  White  Female   \n",
       "18762       Never-married     Prof-specialty      Own-child  White    Male   \n",
       "25354       Never-married     Prof-specialty  Not-in-family  White    Male   \n",
       "\n",
       "       capital-gain  capital-loss  hours-per-week native-country AnnualIncome  \n",
       "28404             0             0              40  United-States        <=50K  \n",
       "22674             0             0              43  United-States        <=50K  \n",
       "13386             0             0              44  United-States        <=50K  \n",
       "22936             0             0              40  United-States        <=50K  \n",
       "26859             0             0              40  United-States        <=50K  \n",
       "...             ...           ...             ...            ...          ...  \n",
       "13419             0             0              50  United-States         >50K  \n",
       "26348             0             0              41  United-States         >50K  \n",
       "23605             0             0              15  United-States        <=50K  \n",
       "18762             0             0              40  United-States        <=50K  \n",
       "25354             0             0              99  United-States        <=50K  \n",
       "\n",
       "[200 rows x 15 columns]"
      ]
     },
     "execution_count": 15,
     "metadata": {},
     "output_type": "execute_result"
    }
   ],
   "source": [
    "census_200=data.sample(200)\n",
    "census_200"
   ]
  },
  {
   "cell_type": "code",
   "execution_count": 16,
   "id": "73a231e6",
   "metadata": {
    "id": "73a231e6",
    "outputId": "9819b1b0-9657-4621-e754-1884291feead"
   },
   "outputs": [
    {
     "data": {
      "text/plain": [
       "Private             22696\n",
       "Self-emp-not-inc     2541\n",
       "Local-gov            2093\n",
       "State-gov            1298\n",
       "Self-emp-inc         1116\n",
       "Federal-gov           960\n",
       "Without-pay            14\n",
       "Never-worked            7\n",
       "Name: workclass, dtype: int64"
      ]
     },
     "execution_count": 16,
     "metadata": {},
     "output_type": "execute_result"
    }
   ],
   "source": [
    "data['workclass'].value_counts()"
   ]
  },
  {
   "cell_type": "code",
   "execution_count": 17,
   "id": "b62fba00",
   "metadata": {
    "id": "b62fba00",
    "outputId": "115edfa2-922a-42c6-81d4-a2c6230c099e"
   },
   "outputs": [
    {
     "data": {
      "text/plain": [
       "workclass\n",
       "Federal-gov          833.232292\n",
       "Local-gov            880.202580\n",
       "Never-worked           0.000000\n",
       "Private              889.217792\n",
       "Self-emp-inc        4875.693548\n",
       "Self-emp-not-inc    1886.061787\n",
       "State-gov            701.699538\n",
       "Without-pay          487.857143\n",
       "Name: capital-gain, dtype: float64"
      ]
     },
     "execution_count": 17,
     "metadata": {},
     "output_type": "execute_result"
    }
   ],
   "source": [
    "data.groupby('workclass')['capital-gain'].mean()"
   ]
  },
  {
   "cell_type": "code",
   "execution_count": null,
   "id": "bf0c0829",
   "metadata": {
    "id": "bf0c0829"
   },
   "outputs": [],
   "source": []
  },
  {
   "cell_type": "code",
   "execution_count": 18,
   "id": "6a430693",
   "metadata": {
    "id": "6a430693"
   },
   "outputs": [],
   "source": [
    "from sklearn.preprocessing import LabelEncoder\n",
    "labelencoder = LabelEncoder()\n",
    "data['workclass'] = labelencoder.fit_transform(data['workclass'])\n",
    "data['education'] = labelencoder.fit_transform(data['education'])\n",
    "data['marital-status'] = labelencoder.fit_transform(data['marital-status'])\n",
    "data['occupation'] = labelencoder.fit_transform(data['occupation'])\n",
    "data['relationship'] = labelencoder.fit_transform(data['relationship'])\n",
    "data['race'] = labelencoder.fit_transform(data['race'])\n",
    "data['sex'] = labelencoder.fit_transform(data['sex'])\n",
    "data['native-country'] = labelencoder.fit_transform(data['native-country'])"
   ]
  },
  {
   "cell_type": "code",
   "execution_count": 19,
   "id": "3060700e",
   "metadata": {
    "id": "3060700e"
   },
   "outputs": [],
   "source": [
    "data['AnnualIncome'] = labelencoder.fit_transform(data['AnnualIncome'])"
   ]
  },
  {
   "cell_type": "code",
   "execution_count": 20,
   "id": "54d26aa0",
   "metadata": {
    "id": "54d26aa0",
    "outputId": "4aa7674c-4465-4c73-a65d-0c102bb611a0"
   },
   "outputs": [
    {
     "data": {
      "text/plain": [
       "0        0\n",
       "1        0\n",
       "2        0\n",
       "3        0\n",
       "4        0\n",
       "        ..\n",
       "32556    0\n",
       "32557    1\n",
       "32558    0\n",
       "32559    0\n",
       "32560    1\n",
       "Name: AnnualIncome, Length: 32561, dtype: int32"
      ]
     },
     "execution_count": 20,
     "metadata": {},
     "output_type": "execute_result"
    }
   ],
   "source": [
    "x=data.iloc[:,:-1]\n",
    "x\n",
    "y=data.iloc[:,-1]\n",
    "y"
   ]
  },
  {
   "cell_type": "code",
   "execution_count": 21,
   "id": "f070b01d",
   "metadata": {
    "id": "f070b01d"
   },
   "outputs": [],
   "source": [
    "from sklearn.model_selection import train_test_split\n",
    "from sklearn.linear_model import LogisticRegression\n",
    "from sklearn.tree import DecisionTreeClassifier\n",
    "from sklearn.ensemble import RandomForestClassifier\n",
    "from sklearn.metrics import *"
   ]
  },
  {
   "cell_type": "code",
   "execution_count": 22,
   "id": "a0e235b7",
   "metadata": {
    "id": "a0e235b7"
   },
   "outputs": [],
   "source": [
    "m1=LogisticRegression()\n",
    "x_train, x_test, y_train, y_test=train_test_split(x,y, train_size=0.70, random_state=0)\n",
    "m1.fit(x_train, y_train)\n",
    "p1=m1.predict(x_test)"
   ]
  },
  {
   "cell_type": "code",
   "execution_count": 23,
   "id": "761396eb",
   "metadata": {
    "id": "761396eb",
    "outputId": "be158e77-161e-4316-ac2b-b755e8fadb15"
   },
   "outputs": [
    {
     "data": {
      "text/plain": [
       "array([0, 0, 0, 1, 1, 0, 0, 0, 0, 0, 0, 0, 0, 0, 0, 0, 0, 1, 0, 0])"
      ]
     },
     "execution_count": 23,
     "metadata": {},
     "output_type": "execute_result"
    }
   ],
   "source": [
    "#prediction of logistic reg\n",
    "p1[:20]"
   ]
  },
  {
   "cell_type": "code",
   "execution_count": 24,
   "id": "f7aba64a",
   "metadata": {
    "id": "f7aba64a"
   },
   "outputs": [],
   "source": [
    "m2=DecisionTreeClassifier()\n",
    "x_train, x_test, y_train, y_test=train_test_split(x,y, train_size=0.70, random_state=0)\n",
    "m2.fit(x_train, y_train)\n",
    "p2=m2.predict(x_test)"
   ]
  },
  {
   "cell_type": "code",
   "execution_count": 25,
   "id": "86ea78ef",
   "metadata": {
    "id": "86ea78ef",
    "outputId": "6122fba4-f19e-4727-e3cf-488f1e52c0c5"
   },
   "outputs": [
    {
     "data": {
      "text/plain": [
       "array([0, 0, 0, 0, 1, 0, 0, 0, 0, 0, 0, 0, 1, 0, 1, 0, 1, 1, 0, 0])"
      ]
     },
     "execution_count": 25,
     "metadata": {},
     "output_type": "execute_result"
    }
   ],
   "source": [
    "#prediction of Decision tree reg\n",
    "p2[:20]"
   ]
  },
  {
   "cell_type": "code",
   "execution_count": 26,
   "id": "64446ae9",
   "metadata": {
    "id": "64446ae9"
   },
   "outputs": [],
   "source": [
    "m3=RandomForestClassifier()\n",
    "x_train, x_test, y_train, y_test=train_test_split(x,y, train_size=0.70, random_state=0)\n",
    "m3.fit(x_train, y_train)\n",
    "p3=m3.predict(x_test)"
   ]
  },
  {
   "cell_type": "code",
   "execution_count": 27,
   "id": "64ab0efe",
   "metadata": {
    "id": "64ab0efe",
    "outputId": "0123ed95-d33b-44bd-89d5-c2cf463cd7c0"
   },
   "outputs": [
    {
     "data": {
      "text/plain": [
       "array([0, 0, 0, 0, 0, 0, 0, 0, 0, 0, 0, 0, 1, 0, 1, 0, 1, 1, 0, 0])"
      ]
     },
     "execution_count": 27,
     "metadata": {},
     "output_type": "execute_result"
    }
   ],
   "source": [
    "#prediction of Decision tree reg\n",
    "p3[:20]"
   ]
  },
  {
   "cell_type": "code",
   "execution_count": 28,
   "id": "cb9b926f",
   "metadata": {
    "id": "cb9b926f",
    "outputId": "ce44b803-15bf-44ee-e76e-be98c2790d97"
   },
   "outputs": [
    {
     "name": "stdout",
     "output_type": "stream",
     "text": [
      "Accuracy of Logistic Regression Model: \n",
      "0.7923021803664654\n",
      "Accuracy of Decision Tree Model: \n",
      "0.8068379568021292\n",
      "Accuracy of Random Forest Model: \n",
      "0.8552564233800799\n"
     ]
    }
   ],
   "source": [
    "print('Accuracy of Logistic Regression Model: ')\n",
    "print(accuracy_score(y_test, p1))\n",
    "print('Accuracy of Decision Tree Model: ')\n",
    "print(accuracy_score(y_test, p2))\n",
    "print('Accuracy of Random Forest Model: ')\n",
    "print(accuracy_score(y_test, p3))"
   ]
  },
  {
   "cell_type": "code",
   "execution_count": 29,
   "id": "a464a1d7",
   "metadata": {
    "id": "a464a1d7",
    "outputId": "5ea8a8f0-da8f-4b77-cecb-db7e0572ce6d"
   },
   "outputs": [
    {
     "name": "stdout",
     "output_type": "stream",
     "text": [
      "Confusion Matrix of Logistic Regression Model: \n",
      "[[7042  365]\n",
      " [1664  698]]\n",
      "Confusion Matrix of Decision Tree Model: \n",
      "[[6433  974]\n",
      " [ 913 1449]]\n",
      "Confusion Matrix of Random Forest Model: \n",
      "[[6878  529]\n",
      " [ 885 1477]]\n"
     ]
    }
   ],
   "source": [
    "print('Confusion Matrix of Logistic Regression Model: ')\n",
    "print(confusion_matrix(y_test, p1))\n",
    "print('Confusion Matrix of Decision Tree Model: ')\n",
    "print(confusion_matrix(y_test, p2))\n",
    "print('Confusion Matrix of Random Forest Model: ')\n",
    "print(confusion_matrix(y_test, p3))"
   ]
  },
  {
   "cell_type": "code",
   "execution_count": 30,
   "id": "a0565d87",
   "metadata": {
    "id": "a0565d87",
    "outputId": "c4c92a69-a0fe-4d55-b153-9143b1a7f063"
   },
   "outputs": [
    {
     "name": "stdout",
     "output_type": "stream",
     "text": [
      "Classification Report of Logistic Regression Model: \n",
      "              precision    recall  f1-score   support\n",
      "\n",
      "           0       0.81      0.95      0.87      7407\n",
      "           1       0.66      0.30      0.41      2362\n",
      "\n",
      "    accuracy                           0.79      9769\n",
      "   macro avg       0.73      0.62      0.64      9769\n",
      "weighted avg       0.77      0.79      0.76      9769\n",
      "\n",
      "Classification Report of Decision Tree Model: \n",
      "              precision    recall  f1-score   support\n",
      "\n",
      "           0       0.88      0.87      0.87      7407\n",
      "           1       0.60      0.61      0.61      2362\n",
      "\n",
      "    accuracy                           0.81      9769\n",
      "   macro avg       0.74      0.74      0.74      9769\n",
      "weighted avg       0.81      0.81      0.81      9769\n",
      "\n",
      "Classification Report of Random Forest Model: \n",
      "              precision    recall  f1-score   support\n",
      "\n",
      "           0       0.89      0.93      0.91      7407\n",
      "           1       0.74      0.63      0.68      2362\n",
      "\n",
      "    accuracy                           0.86      9769\n",
      "   macro avg       0.81      0.78      0.79      9769\n",
      "weighted avg       0.85      0.86      0.85      9769\n",
      "\n"
     ]
    }
   ],
   "source": [
    "print('Classification Report of Logistic Regression Model: ')\n",
    "print(classification_report(y_test, p1))\n",
    "print('Classification Report of Decision Tree Model: ')\n",
    "print(classification_report(y_test, p2))\n",
    "print('Classification Report of Random Forest Model: ')\n",
    "print(classification_report(y_test, p3))"
   ]
  },
  {
   "cell_type": "code",
   "execution_count": null,
   "id": "433a868b",
   "metadata": {
    "id": "433a868b"
   },
   "outputs": [],
   "source": []
  },
  {
   "cell_type": "code",
   "execution_count": null,
   "id": "b7313fd7",
   "metadata": {},
   "outputs": [],
   "source": []
  },
  {
   "cell_type": "code",
   "execution_count": null,
   "id": "6302f437",
   "metadata": {},
   "outputs": [],
   "source": []
  }
 ],
 "metadata": {
  "colab": {
   "provenance": []
  },
  "kernelspec": {
   "display_name": "Python 3 (ipykernel)",
   "language": "python",
   "name": "python3"
  },
  "language_info": {
   "codemirror_mode": {
    "name": "ipython",
    "version": 3
   },
   "file_extension": ".py",
   "mimetype": "text/x-python",
   "name": "python",
   "nbconvert_exporter": "python",
   "pygments_lexer": "ipython3",
   "version": "3.10.9"
  }
 },
 "nbformat": 4,
 "nbformat_minor": 5
}
